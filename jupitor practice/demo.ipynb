{
 "cells": [
  {
   "cell_type": "code",
   "execution_count": 2,
   "id": "b76632b5",
   "metadata": {},
   "outputs": [
    {
     "name": "stdout",
     "output_type": "stream",
     "text": [
      "Hello World\n"
     ]
    }
   ],
   "source": [
    "print(\"Hello World\")"
   ]
  },
  {
   "cell_type": "code",
   "execution_count": 2,
   "id": "440943bb",
   "metadata": {},
   "outputs": [
    {
     "name": "stdout",
     "output_type": "stream",
     "text": [
      "23\n"
     ]
    }
   ],
   "source": [
    "age = input(\"What is your age?\")\n",
    "print(age)"
   ]
  },
  {
   "cell_type": "code",
   "execution_count": 3,
   "id": "d285eb76",
   "metadata": {},
   "outputs": [
    {
     "name": "stdout",
     "output_type": "stream",
     "text": [
      "sum : 132.0\n",
      "subtraction : -18.0\n",
      "multiplication : 4275.0\n",
      "division : 0.76\n",
      "reminder : 57.0\n"
     ]
    }
   ],
   "source": [
    "first_num = float(input(\"please entre the number\"))\n",
    "second_num = float(input(\"please entre the second number\"))\n",
    "\n",
    "sum = first_num + second_num\n",
    "subtraction = first_num - second_num\n",
    "multiplication = first_num * second_num\n",
    "division = first_num / second_num\n",
    "reminder = first_num % second_num\n",
    "\n",
    "print(\"sum :\", sum)\n",
    "print(\"subtraction :\", subtraction)\n",
    "print(\"multiplication :\", multiplication)\n",
    "print(\"division :\", division)\n",
    "print(\"reminder :\", reminder)"
   ]
  }
 ],
 "metadata": {
  "kernelspec": {
   "display_name": ".venv",
   "language": "python",
   "name": "python3"
  },
  "language_info": {
   "codemirror_mode": {
    "name": "ipython",
    "version": 3
   },
   "file_extension": ".py",
   "mimetype": "text/x-python",
   "name": "python",
   "nbconvert_exporter": "python",
   "pygments_lexer": "ipython3",
   "version": "3.13.3"
  }
 },
 "nbformat": 4,
 "nbformat_minor": 5
}
