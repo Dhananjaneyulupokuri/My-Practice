{
 "cells": [
  {
   "cell_type": "code",
   "execution_count": 23,
   "id": "167c492f",
   "metadata": {},
   "outputs": [
    {
     "name": "stdout",
     "output_type": "stream",
     "text": [
      "['Apple', 'Banana', 'Cherry', 'Kiwi', 'Mango']\n",
      "Cherry\n",
      "Mango\n",
      "['Mango', 'Cherry']\n",
      "['Apple', 'Banana', 'Cherry', 'Apple', 'Mango']\n",
      "['Apple', 'W', 'a', 't', 'e', 'r', 'm', 'e', 'l', 'o', 'n']\n",
      "['Apple', 'W', 'a', 't', 'e', 'r', 'm', 'e', 'l', 'o', 'n', 'orange']\n"
     ]
    }
   ],
   "source": [
    "fruits_names = [\"Apple\",\"Banana\",\"Cherry\",\"Kiwi\",\"Mango\"]\n",
    "print(fruits_names)\n",
    "print(fruits_names[2])\n",
    "print(fruits_names[-1])\n",
    "print(fruits_names[-1:-5:-2])\n",
    "fruits_names[3] = \"Apple\"\n",
    "print(fruits_names)\n",
    "fruits_names[1:]=\"Watermelon\" \n",
    "print(fruits_names)\n",
    "fruits_names.append(\"orange\")\n",
    "print(fruits_names)"
   ]
  },
  {
   "cell_type": "code",
   "execution_count": null,
   "id": "a24e9ecf",
   "metadata": {},
   "outputs": [],
   "source": []
  }
 ],
 "metadata": {
  "kernelspec": {
   "display_name": ".venv",
   "language": "python",
   "name": "python3"
  },
  "language_info": {
   "codemirror_mode": {
    "name": "ipython",
    "version": 3
   },
   "file_extension": ".py",
   "mimetype": "text/x-python",
   "name": "python",
   "nbconvert_exporter": "python",
   "pygments_lexer": "ipython3",
   "version": "3.13.3"
  }
 },
 "nbformat": 4,
 "nbformat_minor": 5
}
